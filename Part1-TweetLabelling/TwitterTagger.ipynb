{
 "cells": [
  {
   "cell_type": "code",
   "execution_count": null,
   "metadata": {},
   "outputs": [
    {
     "name": "stdout",
     "output_type": "stream",
     "text": [
      "69\n"
     ]
    }
   ],
   "source": [
    "import copy\n",
    "import json\n",
    "\n",
    "collect_count = 20\n",
    "\n",
    "class TweetTagger:\n",
    "    def __init__(self):\n",
    "        self.tweets = []\n",
    "        self.labels = []\n",
    "        \n",
    "    def load(self, tweets_filename):\n",
    "        with open(tweets_filename) as json_file:\n",
    "            for line in json_file:\n",
    "                data_obj = json.loads(line)\n",
    "#                 if len(self.tweets) >= collect_count:\n",
    "#                     break\n",
    "                self.tweets.append(data_obj)\n",
    "                self.labels.append(\"\")\n",
    "    \n",
    "    def label_tweets(self):\n",
    "        total_tweets = len(self.tweets)\n",
    "        for i in range(total_tweets):\n",
    "            tweet = self.tweets[i]['text']\n",
    "            \n",
    "            if 'extended_tweet' in self.tweets[i]:\n",
    "                multi_line_tweet = self.tweets[i]['extended_tweet']['full_text']\n",
    "                tweet = \"\".join(multi_line_tweet.splitlines())\n",
    "            answer = input(f'{tweet}: positive or negative: ')\n",
    "            self.labels[i] = answer\n",
    "            \n",
    "            \n",
    "    def count(self, label):\n",
    "        counter = 0\n",
    "        for tag in self.labels:\n",
    "            if tag == label:\n",
    "                counter += 1   \n",
    "        return counter\n",
    "\n",
    "    def trim(self, label, count):\n",
    "        new_tweets = []\n",
    "        new_labels = []\n",
    "        total_tweets = len(self.tweets)\n",
    "        \n",
    "        label_count = self.count(label)\n",
    "        remove_bool = label_count > count\n",
    "        \n",
    "        for i in range(total_tweets):\n",
    "            if remove_bool and label == self.labels[i]:\n",
    "                continue\n",
    "            if self.tweets[i]['lang'] == 'en':\n",
    "                new_tweets.append(self.tweets[i])\n",
    "                new_labels.append(self.labels[i])\n",
    "      \n",
    "        self.tweets = new_tweets\n",
    "        self.labels = new_labels\n",
    "\n",
    "    def merge(self, another_tweet_tagger):\n",
    "        new_tweets = another_tweet_tagger.tweets\n",
    "        new_labels = another_tweet_tagger.labels\n",
    "        self.tweets.extend(new_tweets)\n",
    "        self.labels.extends(new_labels)\n",
    "        \n",
    "\n",
    "    def save(self, filename):\n",
    "        with open(f'tweets_{filename}.txt', 'w') as outfile:\n",
    "            for tweet in self.tweets:\n",
    "                outfile.write(f\"{tweet}\\n\")\n",
    "        \n",
    "        with open(f'labels_{filename}.txt', 'w') as outfile:\n",
    "            for label in self.labels:\n",
    "                if label == 'y':\n",
    "                    new_label = 'positive'\n",
    "                elif label == 'n':\n",
    "                    new_label = 'negative'\n",
    "                outfile.write(f'{new_label}\\n')\n",
    "\n",
    "\n",
    "t = TweetTagger()\n",
    "t.load(\"tweets.json\")\n",
    "print(len(t.tweets))\n",
    "t.label_tweets()\n",
    "t.save('1')\n"
   ]
  },
  {
   "cell_type": "code",
   "execution_count": 28,
   "metadata": {},
   "outputs": [],
   "source": [
    "t.save('1')"
   ]
  },
  {
   "cell_type": "code",
   "execution_count": null,
   "metadata": {},
   "outputs": [],
   "source": []
  }
 ],
 "metadata": {
  "kernelspec": {
   "display_name": "Python 3",
   "language": "python",
   "name": "python3"
  },
  "language_info": {
   "codemirror_mode": {
    "name": "ipython",
    "version": 3
   },
   "file_extension": ".py",
   "mimetype": "text/x-python",
   "name": "python",
   "nbconvert_exporter": "python",
   "pygments_lexer": "ipython3",
   "version": "3.8.3"
  }
 },
 "nbformat": 4,
 "nbformat_minor": 4
}
