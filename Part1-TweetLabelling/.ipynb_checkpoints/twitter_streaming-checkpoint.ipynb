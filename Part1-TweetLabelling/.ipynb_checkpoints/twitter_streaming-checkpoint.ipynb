{
 "cells": [
  {
   "cell_type": "code",
   "execution_count": null,
   "metadata": {
    "scrolled": true
   },
   "outputs": [],
   "source": [
    "import json\n",
    "\n",
    "#Import the necessary methods from tweepy library\n",
    "import tweepy\n",
    "from tweepy import OAuthHandler, Stream\n",
    "from tweepy.streaming import Stream\n",
    "\n",
    "#Variables that contains the user credentials to access Twitter API \n",
    "access_token = \"1271532466910740482-mKNTqacbCpWj3aq43Pn0MXIWXc3IEp\"\n",
    "access_token_secret = \"R6kdbXidt4Ea06MGf860AvaHkhbeOGPfU5qfX4xhxRdNn\"\n",
    "consumer_key = \"cS6VYdYEIlCcfm1yxc5Gu5TVZ\"\n",
    "consumer_secret = \"CBaqoqL1q7isUs7kGN3FAvFtL7LXB7qREGeMHfZWWvvzn8nwSp\"\n",
    "\n",
    "\n",
    "#This is a basic listener that just prints received tweets to stdout.\n",
    "class StdOutListener(Stream):\n",
    "\n",
    "    def on_status(self, status): # Print Tweets as they stream in\n",
    "        with open('tweets.json', 'a') as outfile:\n",
    "            data_json = f'{json.dumps(status._json)}\\n'\n",
    "            outfile.write(data_json)\n",
    "                 \n",
    "    def on_error(self, status): # Print Errors if you encounter them\n",
    "        if status == 401:\n",
    "            print(\"401: Authentication Error\") # 401 is an authentication error\n",
    "        else:\n",
    "            print(status)       # Other error codes get printed\n",
    "\n",
    "\n",
    "#This handles Twitter authetication and the connection to Twitter Streaming API\n",
    "# Authenticate to Twitter\n",
    "# auth = OAuthHandler(consumer_key, consumer_secret)\n",
    "# auth.set_access_token(access_token, access_token_secret)\n",
    "\n",
    "#l = StdOutListener(consumer_key, consumer_secret, access_token, access_token_secret)\n",
    "stream = StdOutListener(consumer_key, consumer_secret, access_token, access_token_secret)\n",
    "\n",
    "#This line filters Twitter Streams using the specified search terms\n",
    "#Do not change these search terms\n",
    "stream.filter(track=['vaccine', 'adverse event', 'safety', 'injury', 'mandatory', 'side effect', 'monograph', 'death'], languages=['en'])\n"
   ]
  },
  {
   "cell_type": "code",
   "execution_count": null,
   "metadata": {},
   "outputs": [],
   "source": []
  },
  {
   "cell_type": "code",
   "execution_count": null,
   "metadata": {},
   "outputs": [],
   "source": []
  },
  {
   "cell_type": "code",
   "execution_count": null,
   "metadata": {},
   "outputs": [],
   "source": []
  }
 ],
 "metadata": {
  "kernelspec": {
   "display_name": "Python 3",
   "language": "python",
   "name": "python3"
  },
  "language_info": {
   "codemirror_mode": {
    "name": "ipython",
    "version": 3
   },
   "file_extension": ".py",
   "mimetype": "text/x-python",
   "name": "python",
   "nbconvert_exporter": "python",
   "pygments_lexer": "ipython3",
   "version": "3.8.3"
  }
 },
 "nbformat": 4,
 "nbformat_minor": 4
}
