{
 "cells": [
  {
   "cell_type": "code",
   "execution_count": 44,
   "metadata": {},
   "outputs": [],
   "source": [
    "import pandas as pd\n",
    "import numpy as np\n",
    "import matplotlib.pyplot as plt\n",
    "\n",
    "import json\n",
    "import nltk\n",
    "# nltk.download('stopwords')\n",
    "from nltk.corpus import stopwords\n",
    "from nltk.classify import SklearnClassifier\n",
    "\n",
    "import random\n",
    "import pickle"
   ]
  },
  {
   "cell_type": "code",
   "execution_count": 45,
   "metadata": {},
   "outputs": [],
   "source": [
    "## Load training data_set\n",
    "with open('labels_train.txt') as lf:\n",
    "    labels = lf.readlines()\n",
    "labels = [label.strip() for label in labels]\n",
    "\n",
    "with open('tweets_train.txt') as tf:\n",
    "    tweets = tf.readlines()\n",
    "tweets = [json.loads(tweet.strip()) for tweet in tweets]\n",
    "\n",
    "data = list(zip(tweets, labels))"
   ]
  },
  {
   "cell_type": "code",
   "execution_count": 46,
   "metadata": {},
   "outputs": [],
   "source": [
    "## EXTRACTING FEATURES FROM TWEETS\n",
    "tweets = []\n",
    "all_words_in_tweets = []\n",
    "\n",
    "stopwords_set = set(stopwords.words(\"english\"))\n",
    "\n",
    "# Clean up Tweet_text\n",
    "for tweet, label in data:\n",
    "    tweet_text = tweet['text']\n",
    "    words_filtered = [word.lower() for word in tweet_text.split() if len(word) >= 3]\n",
    "    \n",
    "    words_cleaned = [word for word in words_filtered\n",
    "        if 'http' not in word\n",
    "        and not word.startswith('@')\n",
    "        and not word.startswith('#')\n",
    "        and word != 'RT']\n",
    "    \n",
    "    words_without_stopwords = [word for word in words_cleaned if not word in stopwords_set]\n",
    "    \n",
    "    tweets.append((words_without_stopwords, label))\n",
    "    all_words_in_tweets.extend(words_without_stopwords)\n",
    "\n",
    "# Get specific word features (IMPORTANT WORDS IN ALL THE TWEETS)\n",
    "def get_word_features(wordlist):\n",
    "    wordlist = nltk.FreqDist(wordlist)\n",
    "    features = wordlist.keys()\n",
    "    return features\n",
    "\n",
    "w_features = get_word_features(all_words_in_tweets)\n",
    "\n",
    "# Define Features_Function\n",
    "def features(tweet):\n",
    "    features = {}\n",
    "    tweet_text = set(tweet)\n",
    "    for word in w_features:\n",
    "        features[f'contains({word})'] = (word in tweet_text)\n",
    "    return features\n"
   ]
  },
  {
   "cell_type": "code",
   "execution_count": 47,
   "metadata": {},
   "outputs": [
    {
     "name": "stdout",
     "output_type": "stream",
     "text": [
      "80.98782138024357\n"
     ]
    }
   ],
   "source": [
    "## Create Train/Test Datasets\n",
    "featureset = nltk.classify.apply_features(features, tweets)\n",
    "# training_set = featureset[1478:]\n",
    "# testing_set = featureset[:1478]\n",
    "classifier = nltk.NaiveBayesClassifier.train( featureset )\n",
    "\n",
    "## Train & Test the accuracy of these features ; Tinker, Rinse, and Repeat until you're happy \n",
    "accuracy_per = nltk.classify.accuracy(classifier, featureset) * 100\n",
    "print(accuracy_per)"
   ]
  },
  {
   "cell_type": "code",
   "execution_count": 48,
   "metadata": {},
   "outputs": [],
   "source": [
    "## Save your classifier to a file\n",
    "with open('twitter_classifier.pkl', 'wb') as cf:\n",
    "    pickle.dump(classifier, cf)"
   ]
  },
  {
   "cell_type": "code",
   "execution_count": null,
   "metadata": {},
   "outputs": [],
   "source": [
    "# Load Classfier from 'twitter_classifier.pkl'\n",
    "with open ('twitter_classifier.pkl', 'rb') as f:\n",
    "    classifier = pickle.load(f)\n",
    "\n",
    "# Load tweets from 'tweets.txt'\n",
    "with open('tweets.txt', 'r') as tf:\n",
    "    tweets = tf.readlines()\n",
    "testing_set = [json.loads(tweet.strip()) for tweet in tweets]\n",
    "\n",
    "# Mark labels\n",
    "labels = []\n",
    "for tweet in testing_set:\n",
    "    labels.append(classifier.classify(features(tweet['text'])))\n",
    "\n",
    "# Save labels to 'labels.txt'\n",
    "with open('labels.txt', 'w') as txt_file:\n",
    "    for label in labels:\n",
    "        txt_file.write(f\"{label}\\n\")\n"
   ]
  },
  {
   "cell_type": "code",
   "execution_count": 50,
   "metadata": {},
   "outputs": [
    {
     "data": {
      "image/png": "[encoded data removed]",
      "text/plain": [
       "<Figure size 432x288 with 1 Axes>"
      ]
     },
     "metadata": {
      "needs_background": "light"
     },
     "output_type": "display_data"
    }
   ],
   "source": [
    "## Convert 'testing_set' into a dataframe -> extract dates of each tweet -> map dates(x-axis) to labels(y-axis).\n",
    "\n",
    "tweet_time = [(tweet['created_at'], label) for tweet, label in data]\n",
    "df = pd.DataFrame(tweet_time, columns = ['Date', 'label'])\n",
    "\n",
    "df = df[(df.label == 'positive') | (df.label == 'negative')]\n",
    "\n",
    "df['Date'] = pd.to_datetime(df['Date'], format=\"%a %b %d %X %z %Y\")\n",
    "# total_rows = df['Date'].count()\n",
    "df['Date'] = df['Date'].dt.date\n",
    "\n",
    "positive_df = df[df.label == 'positive']\n",
    "\n",
    "df = df.sort_values(by='Date')\n",
    "positive_df.sort_values(by='Date', inplace=True)\n",
    "\n",
    "df['Total_count'] = df.groupby('Date').transform('count')\n",
    "positive_df['Pos_Count'] = positive_df.groupby('Date').transform('count')\n",
    "\n",
    "df = df[df.label == 'positive']\n",
    "df['Pos_Count'] = positive_df['Pos_Count'].values \n",
    "\n",
    "df.drop_duplicates(subset='Date', keep='first', inplace=True)\n",
    "df['Pos_Percent'] = (df.Pos_Count/df.Total_count)*100\n",
    "\n",
    "plt.plot(df['Date'], df['Pos_Percent'])\n",
    "plt.title(\"Daily Percentage of Positive Tweets\")\n",
    "plt.xlabel(\"Month/Year\")\n",
    "plt.ylabel('Percentage of Positive Tweets')\n",
    "plt.xticks(rotation=45, ha='right')\n",
    "\n",
    "plt.savefig(\"plot.png\", dpi=400)"
   ]
  },
  {
   "cell_type": "code",
   "execution_count": null,
   "metadata": {},
   "outputs": [],
   "source": []
  }
 ],
 "metadata": {
  "kernelspec": {
   "display_name": "Python 3",
   "language": "python",
   "name": "python3"
  },
  "language_info": {
   "codemirror_mode": {
    "name": "ipython",
    "version": 3
   },
   "file_extension": ".py",
   "mimetype": "text/x-python",
   "name": "python",
   "nbconvert_exporter": "python",
   "pygments_lexer": "ipython3",
   "version": "3.8.3"
  }
 },
 "nbformat": 4,
 "nbformat_minor": 4
}
